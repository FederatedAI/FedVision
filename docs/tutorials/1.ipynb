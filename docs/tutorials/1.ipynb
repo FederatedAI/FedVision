{
 "cells": [
  {
   "cell_type": "code",
   "execution_count": 1,
   "metadata": {},
   "outputs": [],
   "source": [
    "%load_ext autoreload\n",
    "%autoreload 2\n",
    "%matplotlib inline"
   ]
  },
  {
   "cell_type": "code",
   "execution_count": 2,
   "metadata": {},
   "outputs": [
    {
     "name": "stderr",
     "output_type": "stream",
     "text": [
      "Using TensorFlow backend.\n"
     ]
    },
    {
     "name": "stdout",
     "output_type": "stream",
     "text": [
      "WARNING:tensorflow:\n",
      "The TensorFlow contrib module will not be included in TensorFlow 2.0.\n",
      "For more information, please see:\n",
      "  * https://github.com/tensorflow/community/blob/master/rfcs/20180907-contrib-sunset.md\n",
      "  * https://github.com/tensorflow/addons\n",
      "  * https://github.com/tensorflow/io (for I/O related ops)\n",
      "If you depend on functionality not listed there, please file an issue.\n",
      "\n"
     ]
    }
   ],
   "source": [
    "import numpy as np\n",
    "import pandas as pd\n",
    "import antrax as ax\n",
    "import antrax.dlc\n",
    "import deeplabcut\n",
    "\n",
    "from os.path import join, isdir, isfile"
   ]
  },
  {
   "cell_type": "code",
   "execution_count": null,
   "metadata": {},
   "outputs": [],
   "source": [
    "# the name of the dlc project\n",
    "projectname = 'dlc-demo'\n",
    "\n",
    "# user name\n",
    "user = 'antrax'\n",
    "\n",
    "# where to put the dlc project directory\n",
    "wd = '/Users/asaf/Box Sync/anTraX/deeplabcut/'\n",
    "\n",
    "# create the project directory\n",
    "cfg = deeplabcut.create_new_project(projectname,user,[], working_directory=wd)\n",
    "\n",
    "# load the project params into dict\n",
    "projdict = ax.load_dlc_cfg(cfg)\n",
    "projdir = projdict['project_path']\n"
   ]
  },
  {
   "cell_type": "code",
   "execution_count": null,
   "metadata": {},
   "outputs": [],
   "source": [
    "# Export random frames from antrax to dlc to train on. Repeat this cell is you want \n",
    "# to export from a number of experiments\n",
    "cfg = '/Users/asaf/Box Sync/anTraX/deeplabcut/dlc-demo-antrax-2019-11-27/config.yaml'\n",
    "projdict = ax.load_dlc_cfg(cfg)\n",
    "projdir = projdict['project_path']\n",
    "\n",
    "expdir = '/Users/asaf/Box Sync/anTraX/datasets/A36'\n",
    "ex = ax.axExperiment(expdir)\n",
    "\n",
    "# The number of trainnig images to export\n",
    "nframes = 36*100\n",
    "\n",
    "# List of ants to select images from (use None for all). The examples will be distributed evenly between ants\n",
    "antlist = ex.antlist\n",
    "\n",
    "# Movie indices to export from (use None for all). Reducing the number of movies will speed up the process. \n",
    "movlist = [1,2,3] \n",
    "\n",
    "# Run the export function\n",
    "vidlist = antrax.dlc.create_trainset(ex, projdir, movlist=movlist, antlist=antlist, n=nframes)\n",
    "\n",
    "# Add videos to DLC project\n",
    "deeplabcut.add_new_videos(cfg,vidlist,copy_videos=True)"
   ]
  },
  {
   "cell_type": "code",
   "execution_count": 3,
   "metadata": {},
   "outputs": [
    {
     "ename": "SystemExit",
     "evalue": "This program needs access to the screen. Please run with a\nFramework build of python, and only when you are logged in\non the main display of your Mac.",
     "output_type": "error",
     "traceback": [
      "An exception has occurred, use %tb to see the full traceback.\n",
      "\u001b[0;31mSystemExit\u001b[0m\u001b[0;31m:\u001b[0m This program needs access to the screen. Please run with a\nFramework build of python, and only when you are logged in\non the main display of your Mac.\n"
     ]
    },
    {
     "name": "stderr",
     "output_type": "stream",
     "text": [
      "/Users/asaf/.pyenv/versions/3.6.8/lib/python3.6/site-packages/IPython/core/interactiveshell.py:3334: UserWarning: To exit: use 'exit', 'quit', or Ctrl-D.\n",
      "  warn(\"To exit: use 'exit', 'quit', or Ctrl-D.\", stacklevel=1)\n"
     ]
    }
   ],
   "source": [
    "\n",
    "# Run DeepLabCut labeling GUI\n",
    "cfg = '/Users/asaf/Box Sync/anTraX/deeplabcut/dlc-demo-antrax-2019-11-27/config.yaml'\n",
    "deeplabcut.launch_dlc()\n",
    "#deeplabcut.label_frames(cfg)"
   ]
  },
  {
   "cell_type": "code",
   "execution_count": 10,
   "metadata": {},
   "outputs": [
    {
     "ename": "SyntaxError",
     "evalue": "unexpected character after line continuation character (<ipython-input-10-2f3ea2f9a4db>, line 6)",
     "output_type": "error",
     "traceback": [
      "\u001b[0;36m  File \u001b[0;32m\"<ipython-input-10-2f3ea2f9a4db>\"\u001b[0;36m, line \u001b[0;32m6\u001b[0m\n\u001b[0;31m    \\\\]'/']'/[;.;[;.[]'//'\u001b[0m\n\u001b[0m                          ^\u001b[0m\n\u001b[0;31mSyntaxError\u001b[0m\u001b[0;31m:\u001b[0m unexpected character after line continuation character\n"
     ]
    }
   ],
   "source": [
    "antlist = ['BG'] #ex.antlist\n",
    "ttable = ex.get_tracklet_table(movlist=[1])\n",
    "?\n",
    "\n",
    "\\\n",
    "\\\\]'/']'/[;.;[;.[]'//'\n",
    "ttable = ttable[ttable['ant'].isin(antlist)]\n",
    "\n",
    "btable = ax.tracklet_table_to_blob_table(ttable)\n",
    "btable.head()"
   ]
  },
  {
   "cell_type": "code",
   "execution_count": null,
   "metadata": {},
   "outputs": [],
   "source": [
    "btable1= btable.sample(20)\n",
    "tracklets = [t for t in pd.unique(btable.index.levels[0])]\n",
    "images = ex.get_images(movlist=1, tracklets=tracklets) "
   ]
  },
  {
   "cell_type": "code",
   "execution_count": 9,
   "metadata": {},
   "outputs": [
    {
     "data": {
      "text/plain": [
       "\u001b[0;31mSignature:\u001b[0m\n",
       "\u001b[0mdeeplabcut\u001b[0m\u001b[0;34m.\u001b[0m\u001b[0mtrain_network\u001b[0m\u001b[0;34m(\u001b[0m\u001b[0;34m\u001b[0m\n",
       "\u001b[0;34m\u001b[0m    \u001b[0mconfig\u001b[0m\u001b[0;34m,\u001b[0m\u001b[0;34m\u001b[0m\n",
       "\u001b[0;34m\u001b[0m    \u001b[0mshuffle\u001b[0m\u001b[0;34m=\u001b[0m\u001b[0;36m1\u001b[0m\u001b[0;34m,\u001b[0m\u001b[0;34m\u001b[0m\n",
       "\u001b[0;34m\u001b[0m    \u001b[0mtrainingsetindex\u001b[0m\u001b[0;34m=\u001b[0m\u001b[0;36m0\u001b[0m\u001b[0;34m,\u001b[0m\u001b[0;34m\u001b[0m\n",
       "\u001b[0;34m\u001b[0m    \u001b[0mmax_snapshots_to_keep\u001b[0m\u001b[0;34m=\u001b[0m\u001b[0;36m5\u001b[0m\u001b[0;34m,\u001b[0m\u001b[0;34m\u001b[0m\n",
       "\u001b[0;34m\u001b[0m    \u001b[0mdisplayiters\u001b[0m\u001b[0;34m=\u001b[0m\u001b[0;32mNone\u001b[0m\u001b[0;34m,\u001b[0m\u001b[0;34m\u001b[0m\n",
       "\u001b[0;34m\u001b[0m    \u001b[0msaveiters\u001b[0m\u001b[0;34m=\u001b[0m\u001b[0;32mNone\u001b[0m\u001b[0;34m,\u001b[0m\u001b[0;34m\u001b[0m\n",
       "\u001b[0;34m\u001b[0m    \u001b[0mmaxiters\u001b[0m\u001b[0;34m=\u001b[0m\u001b[0;32mNone\u001b[0m\u001b[0;34m,\u001b[0m\u001b[0;34m\u001b[0m\n",
       "\u001b[0;34m\u001b[0m    \u001b[0mallow_growth\u001b[0m\u001b[0;34m=\u001b[0m\u001b[0;32mFalse\u001b[0m\u001b[0;34m,\u001b[0m\u001b[0;34m\u001b[0m\n",
       "\u001b[0;34m\u001b[0m    \u001b[0mgputouse\u001b[0m\u001b[0;34m=\u001b[0m\u001b[0;32mNone\u001b[0m\u001b[0;34m,\u001b[0m\u001b[0;34m\u001b[0m\n",
       "\u001b[0;34m\u001b[0m    \u001b[0mautotune\u001b[0m\u001b[0;34m=\u001b[0m\u001b[0;32mFalse\u001b[0m\u001b[0;34m,\u001b[0m\u001b[0;34m\u001b[0m\n",
       "\u001b[0;34m\u001b[0m    \u001b[0mkeepdeconvweights\u001b[0m\u001b[0;34m=\u001b[0m\u001b[0;32mTrue\u001b[0m\u001b[0;34m,\u001b[0m\u001b[0;34m\u001b[0m\n",
       "\u001b[0;34m\u001b[0m\u001b[0;34m)\u001b[0m\u001b[0;34m\u001b[0m\u001b[0;34m\u001b[0m\u001b[0m\n",
       "\u001b[0;31mDocstring:\u001b[0m\n",
       "Trains the network with the labels in the training dataset.\n",
       "\n",
       "Parameter\n",
       "----------\n",
       "config : string\n",
       "    Full path of the config.yaml file as a string.\n",
       "\n",
       "shuffle: int, optional\n",
       "    Integer value specifying the shuffle index to select for training. Default is set to 1\n",
       "\n",
       "trainingsetindex: int, optional\n",
       "    Integer specifying which TrainingsetFraction to use. By default the first (note that TrainingFraction is a list in config.yaml).\n",
       "\n",
       "Additional parameters:\n",
       "\n",
       "max_snapshots_to_keep: int, or None. Sets how many snapshots are kept, i.e. states of the trained network. Every savinginteration many times\n",
       "    a snapshot is stored, however only the last max_snapshots_to_keep many are kept! If you change this to None, then all are kept.\n",
       "    See: https://github.com/AlexEMG/DeepLabCut/issues/8#issuecomment-387404835\n",
       "\n",
       "displayiters: this variable is actually set in pose_config.yaml. However, you can overwrite it with this hack. Don't use this regularly, just if you are too lazy to dig out\n",
       "    the pose_config.yaml file for the corresponding project. If None, the value from there is used, otherwise it is overwritten! Default: None\n",
       "\n",
       "saveiters: this variable is actually set in pose_config.yaml. However, you can overwrite it with this hack. Don't use this regularly, just if you are too lazy to dig out\n",
       "    the pose_config.yaml file for the corresponding project. If None, the value from there is used, otherwise it is overwritten! Default: None\n",
       "\n",
       "maxiters: this variable is actually set in pose_config.yaml. However, you can overwrite it with this hack. Don't use this regularly, just if you are too lazy to dig out\n",
       "    the pose_config.yaml file for the corresponding project. If None, the value from there is used, otherwise it is overwritten! Default: None\n",
       "\n",
       "allow_groth: bool, default false.\n",
       "    For some smaller GPUs the memory issues happen. If true, the memory allocator does not pre-allocate the entire specified\n",
       "    GPU memory region, instead starting small and growing as needed. See issue: https://forum.image.sc/t/how-to-stop-running-out-of-vram/30551/2\n",
       "\n",
       "gputouse: int, optional. Natural number indicating the number of your GPU (see number in nvidia-smi). If you do not have a GPU put None.\n",
       "    See: https://nvidia.custhelp.com/app/answers/detail/a_id/3751/~/useful-nvidia-smi-queries\n",
       "\n",
       "autotune: property of TensorFlow, somehow faster if 'false' (as Eldar found out, see https://github.com/tensorflow/tensorflow/issues/13317). Default: False\n",
       "\n",
       "keepdeconvweights: bool, default: true\n",
       "    Also restores the weights of the deconvolution layers (and the backbone) when training from a snapshot. Note that if you change the number of bodyparts, you need to\n",
       "    set this to false for re-training.\n",
       "\n",
       "Example\n",
       "--------\n",
       "for training the network for first shuffle of the training dataset.\n",
       ">>> deeplabcut.train_network('/analysis/project/reaching-task/config.yaml')\n",
       "--------\n",
       "\n",
       "for training the network for second shuffle of the training dataset.\n",
       ">>> deeplabcut.train_network('/analysis/project/reaching-task/config.yaml',shuffle=2,keepdeconvweights=True)\n",
       "--------\n",
       "\u001b[0;31mFile:\u001b[0m      ~/.pyenv/versions/3.6.8/lib/python3.6/site-packages/deeplabcut/pose_estimation_tensorflow/training.py\n",
       "\u001b[0;31mType:\u001b[0m      function\n"
      ]
     },
     "metadata": {},
     "output_type": "display_data"
    }
   ],
   "source": [
    "deeplabcut.train_network?"
   ]
  },
  {
   "cell_type": "code",
   "execution_count": null,
   "metadata": {},
   "outputs": [],
   "source": [
    "projectname = 'antraxdemo'\n",
    "vids = ['trainset.avi']\n",
    "wd = '/Users/asaf/Box Sync/anTraX/deeplabcut/'\n",
    "cfg = dlc.create_new_project(projectname,'Asaf Gal',vids, working_directory=wd,copy_videos=True)"
   ]
  }
 ],
 "metadata": {
  "kernelspec": {
   "display_name": "anTraX2",
   "language": "python",
   "name": "antrax2"
  },
  "language_info": {
   "codemirror_mode": {
    "name": "ipython",
    "version": 3
   },
   "file_extension": ".py",
   "mimetype": "text/x-python",
   "name": "python",
   "nbconvert_exporter": "python",
   "pygments_lexer": "ipython3",
   "version": "3.6.8"
  }
 },
 "nbformat": 4,
 "nbformat_minor": 2
}
